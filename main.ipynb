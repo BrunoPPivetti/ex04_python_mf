{
 "cells": [
  {
   "cell_type": "code",
   "execution_count": 31,
   "id": "052632de",
   "metadata": {},
   "outputs": [],
   "source": [
    "import pandas as pd \n",
    "import numpy as np\n",
    "import math\n",
    "import os\n",
    "from dotenv import load_dotenv\n",
    "from alpha_vantage.timeseries import TimeSeries"
   ]
  },
  {
   "cell_type": "code",
   "execution_count": 2,
   "id": "3f8cfe7b",
   "metadata": {},
   "outputs": [],
   "source": [
    "#retorno diário e acumulado\n",
    "#melhor e pior desempenho\n",
    "#calculo de alpha e beta\n",
    "#análise de drawdown maximo\n",
    "#retorno anualizado\n",
    "#volatilidade anualizada\n",
    "#indice sharpe anualizado\n",
    "#visualização - gráfico de linha dos retornos anualizados\n",
    "#grafico de barra de retornos anualizados\n",
    "#grafico de barras da volatilidade anualizada\n",
    "#gráficos de barras do indice de sharpe\n",
    "#gráfico de disperção (Benchmark no eixo X e retornos diários no eixo Y, adicionar linha de regressão para visualizar relação usada no Beta)"
   ]
  },
  {
   "cell_type": "code",
   "execution_count": 3,
   "id": "8b11b556",
   "metadata": {},
   "outputs": [],
   "source": [
    "#Carregando dados de Invesco, JP Morgan Chase e Lilly\n",
    "load_dotenv()\n",
    "api_key = os.getenv('ALPHA_VANTAGE_KEY')\n",
    "ts = TimeSeries(key=api_key, output_format='pandas')\n",
    "ivz, meta_data = ts.get_daily(symbol='IVZ', outputsize='full')\n",
    "lly, meta_data = ts.get_daily(symbol='LLY', outputsize='full')\n",
    "jpm, meta_data = ts.get_daily(symbol='JPM', outputsize='full')"
   ]
  },
  {
   "cell_type": "code",
   "execution_count": 5,
   "id": "282485f1",
   "metadata": {},
   "outputs": [],
   "source": [
    "#Tratamento de dados\n",
    "c_ivz = pd.DataFrame(ivz['4. close'])\n",
    "c_ivz.index = pd.to_datetime(c_ivz.index)\n",
    "c_ivz = c_ivz.sort_index(ascending=True)\n",
    "\n",
    "c_lly = pd.DataFrame(lly['4. close'])\n",
    "c_lly.index = pd.to_datetime(c_lly.index)\n",
    "c_lly = c_lly.sort_index(ascending=True)\n",
    "\n",
    "c_jpm = pd.DataFrame(jpm['4. close'])\n",
    "c_jpm.index = pd.to_datetime(c_jpm.index)\n",
    "c_jpm = c_jpm.sort_index(ascending=True)\n"
   ]
  },
  {
   "cell_type": "code",
   "execution_count": null,
   "id": "ac134558",
   "metadata": {},
   "outputs": [
    {
     "name": "stdout",
     "output_type": "stream",
     "text": [
      "            4. close\n",
      "date                \n",
      "2025-07-16 -0.631522\n",
      "2025-07-17 -0.622790\n",
      "2025-07-18 -0.565160\n",
      "2025-07-21 -0.559048\n",
      "2025-07-22 -0.536782\n",
      "            4. close\n",
      "date                \n",
      "2025-07-16  2.420536\n",
      "2025-07-17  2.469363\n",
      "2025-07-18  2.485759\n",
      "2025-07-21  2.482169\n",
      "2025-07-22  2.485280\n",
      "             4. close\n",
      "date                 \n",
      "2025-07-16  10.488000\n",
      "2025-07-17  10.076364\n",
      "2025-07-18  10.224873\n",
      "2025-07-21  10.086255\n",
      "2025-07-22  10.281455\n"
     ]
    }
   ],
   "source": [
    "#Retonos acumulados\n",
    "daily_return_ivz = c_ivz.pct_change()\n",
    "daily_return_lly = c_lly.pct_change()\n",
    "daily_return_jpm = c_jpm.pct_change()\n",
    "\n",
    "cummulated_daily_return_ivz = (1 + daily_return_ivz).cumprod() - 1\n",
    "cummulated_daily_return_lly = (1 + daily_return_lly).cumprod() - 1\n",
    "cummulated_daily_return_jpm = (1 + daily_return_jpm).cumprod() - 1\n",
    "\n",
    "print(cummulated_daily_return_ivz.tail())\n",
    "print(cummulated_daily_return_jpm.tail())\n",
    "print(cummulated_daily_return_lly.tail())\n"
   ]
  },
  {
   "cell_type": "code",
   "execution_count": 48,
   "id": "d284b1aa",
   "metadata": {},
   "outputs": [
    {
     "name": "stdout",
     "output_type": "stream",
     "text": [
      "Melhor desempenho acumulado:\n",
      " lly    10.224873\n",
      "jpm     2.485759\n",
      "ivz    -0.565160\n",
      "dtype: float64\n",
      "Pior desempenho acumulado:\n",
      " ivz    -0.565160\n",
      "jpm     2.485759\n",
      "lly    10.224873\n",
      "dtype: float64\n"
     ]
    }
   ],
   "source": [
    "#Melhor e pior retorno\n",
    "best_return_stock = pd.Series({\n",
    "    'lly':cummulated_daily_return_lly['4. close'].iloc[-1],\n",
    "    'jpm':cummulated_daily_return_jpm['4. close'].iloc[-1],\n",
    "    'ivz':cummulated_daily_return_ivz['4. close'].iloc[-1],\n",
    "})\n",
    "\n",
    "\n",
    "print('Melhor desempenho acumulado:\\n', best_return_stock.sort_values(ascending=False))\n",
    "print('Pior desempenho acumulado:\\n', best_return_stock.sort_values(ascending=True))"
   ]
  },
  {
   "cell_type": "code",
   "execution_count": 28,
   "id": "4b6a7ea9",
   "metadata": {},
   "outputs": [],
   "source": [
    "#Puxando dados do benchmark\n",
    "spy, meta_data = ts.get_daily(symbol='spy', outputsize='full')\n",
    "\n",
    "c_spy = pd.DataFrame(spy['4. close'])\n",
    "c_spy.index = pd.to_datetime(c_spy.index)\n",
    "c_spy = c_spy.sort_index(ascending=True)\n",
    "\n",
    "daily_return_spy = c_spy.pct_change()\n",
    "    "
   ]
  },
  {
   "cell_type": "code",
   "execution_count": 31,
   "id": "f45f5a05",
   "metadata": {},
   "outputs": [],
   "source": [
    "#Tratamento de dados para calcular o beta\n",
    "returns_spy = daily_return_spy['4. close']\n",
    "returns_ivz = daily_return_ivz['4. close']\n",
    "returns_jpm = daily_return_jpm['4. close']\n",
    "returns_lly = daily_return_lly['4. close']\n",
    "\n",
    "data_for_beta = pd.DataFrame({\n",
    "    'spy_returns': returns_spy,\n",
    "    'ivz_returns': returns_ivz,\n",
    "    'jpm_returns': returns_jpm,\n",
    "    'lly_returns': returns_lly\n",
    "}).dropna()\n",
    "\n",
    "matrix_covariance = data_for_beta.cov()"
   ]
  },
  {
   "cell_type": "code",
   "execution_count": 49,
   "id": "b3501fad",
   "metadata": {},
   "outputs": [
    {
     "data": {
      "text/plain": [
       "(1.6085957968818796, 1.3665895948807205, 0.6766710033362777)"
      ]
     },
     "execution_count": 49,
     "metadata": {},
     "output_type": "execute_result"
    }
   ],
   "source": [
    "#Calculo do beta\n",
    "covariance_spy_ivz = matrix_covariance.loc['spy_returns', 'ivz_returns']\n",
    "covariance_spy_jpm = matrix_covariance.loc['spy_returns', 'jpm_returns']\n",
    "covariance_spy_lly = matrix_covariance.loc['spy_returns', 'lly_returns']\n",
    "\n",
    "variance_spy = data_for_beta['spy_returns'].var()\n",
    "\n",
    "beta_ivz = covariance_spy_ivz/variance_spy\n",
    "beta_jpm = covariance_spy_jpm/variance_spy\n",
    "beta_lly = covariance_spy_lly/variance_spy\n",
    "\n",
    "beta_ivz, beta_jpm, beta_lly"
   ]
  },
  {
   "cell_type": "code",
   "execution_count": 46,
   "id": "ca80c75a",
   "metadata": {},
   "outputs": [
    {
     "name": "stdout",
     "output_type": "stream",
     "text": [
      "alpha ivz -1.774030418081196\n",
      "alpha jpm 3.099192292828934\n",
      "alpha lly 6.592777391920612\n"
     ]
    }
   ],
   "source": [
    "#Calculo do alpha\n",
    "r_f = 0.05\n",
    "r_f_daily = (1 + r_f) ** (1/252) - 1\n",
    "mean_benchmark_returns = returns_spy.mean()\n",
    "mean_ivz_returns = returns_ivz.mean()\n",
    "mean_jpm_returns = returns_jpm.mean()\n",
    "mean_lly_returns = returns_lly.mean()\n",
    "\n",
    "expected_return_ivz = r_f_daily + beta_ivz * (mean_benchmark_returns - r_f_daily)\n",
    "expected_return_jpm = r_f_daily + beta_jpm * (mean_benchmark_returns - r_f_daily)\n",
    "expected_return_lly = r_f_daily + beta_lly * (mean_benchmark_returns - r_f_daily)\n",
    "\n",
    "daily_alpha_ivz = mean_ivz_returns - expected_return_ivz\n",
    "daily_alpha_jpm = mean_jpm_returns - expected_return_jpm\n",
    "daily_alpha_lly = mean_lly_returns - expected_return_lly\n",
    "\n",
    "annualized_alpha_ivz = (1 + daily_alpha_ivz) ** (252/1) -1\n",
    "annualized_alpha_jpm = (1 + daily_alpha_jpm) ** (252/1) - 1\n",
    "annualized_alpha_lly = (1 + daily_alpha_lly) ** (252/1) -1\n",
    "\n",
    "print('alpha ivz', annualized_alpha_ivz*100)\n",
    "print('alpha jpm', annualized_alpha_jpm*100)\n",
    "print('alpha lly', annualized_alpha_lly*100)\n"
   ]
  },
  {
   "cell_type": "code",
   "execution_count": null,
   "id": "06d781d8",
   "metadata": {},
   "outputs": [
    {
     "name": "stdout",
     "output_type": "stream",
     "text": [
      "maior drawdown de Invesco: 4. close   -0.947036\n",
      "dtype: float64\n",
      "maior drawdown de JP Morgan Chase: 4. close   -0.843147\n",
      "dtype: float64\n",
      "maior drawdown de Lilly: 4. close   -0.74682\n",
      "dtype: float64\n"
     ]
    }
   ],
   "source": [
    "#drawdown\n",
    "\n",
    "equity_curve_ivz = (1 + cummulated_daily_return_ivz.dropna())\n",
    "equity_curve_jpm = (1 + cummulated_daily_return_jpm.dropna())\n",
    "equity_curve_lly = (1 + cummulated_daily_return_lly.dropna())\n",
    "\n",
    "running_max_ivz = equity_curve_ivz.expanding(min_periods=1).max()\n",
    "running_max_jpm = equity_curve_jpm.expanding(min_periods=1).max()\n",
    "running_max_lly = equity_curve_lly.expanding(min_periods=1).max()\n",
    "\n",
    "drawdown_ivz = (equity_curve_ivz/running_max_ivz) - 1\n",
    "drawdown_jpm = (equity_curve_jpm/running_max_jpm) - 1\n",
    "drawdown_lly = (equity_curve_lly/running_max_lly) - 1\n",
    "\n",
    "drawdown_max_ivz = drawdown_ivz.min()\n",
    "drawdown_max_jpm = drawdown_jpm.min()\n",
    "drawdown_max_lly = drawdown_lly.min()\n",
    "\n",
    "print('maior drawdown de Invesco:', drawdown_max_ivz)\n",
    "print('maior drawdown de JP Morgan Chase:', drawdown_max_jpm)\n",
    "print('maior drawdown de Lilly:',drawdown_max_lly)\n",
    "\n"
   ]
  },
  {
   "cell_type": "code",
   "execution_count": 30,
   "id": "1d5fd4ad",
   "metadata": {},
   "outputs": [
    {
     "name": "stdout",
     "output_type": "stream",
     "text": [
      "retorno anualizado Invesco: 4. close   -2.953776\n",
      "Name: 2025-07-22 00:00:00, dtype: float64\n",
      "retorno anualizado JP Morgan Chase: 4. close    4.984732\n",
      "Name: 2025-07-22 00:00:00, dtype: float64\n",
      "retorno anualizado Lilly: 4. close    9.900897\n",
      "Name: 2025-07-22 00:00:00, dtype: float64\n",
      "Retorno anualizado SP500: 4. close    6.160804\n",
      "Name: 2025-07-22 00:00:00, dtype: float64\n"
     ]
    }
   ],
   "source": [
    "#retorno anualizado\n",
    "\n",
    "annualized_return_ivz = (1 + cummulated_daily_return_ivz.iloc[-1]) ** (252/len(cummulated_daily_return_ivz.dropna())) - 1\n",
    "annualized_return_jpm = (1 + cummulated_daily_return_jpm.iloc[-1]) ** (252/len(cummulated_daily_return_jpm.dropna())) - 1\n",
    "annualized_return_lly = (1 + cummulated_daily_return_lly.iloc[-1]) ** (252/len(cummulated_daily_return_lly.dropna())) - 1\n",
    "\n",
    "#Comparação com SP500\n",
    "cummulated_daily_return_spy = (1 + daily_return_spy).cumprod() -1\n",
    "\n",
    "annualized_return_spy = (1 + cummulated_daily_return_spy.iloc[-1]) ** (252/len(cummulated_daily_return_spy.dropna())) - 1\n",
    "\n",
    "print('retorno anualizado Invesco:', annualized_return_ivz*100)\n",
    "print('retorno anualizado JP Morgan Chase:', annualized_return_jpm*100)\n",
    "print('retorno anualizado Lilly:', annualized_return_lly*100)\n",
    "print('Retorno anualizado SP500:',annualized_return_spy*100)"
   ]
  },
  {
   "cell_type": "code",
   "execution_count": 42,
   "id": "6b287753",
   "metadata": {},
   "outputs": [
    {
     "name": "stdout",
     "output_type": "stream",
     "text": [
      "Volatilidade anualizada Invesco: 4. close    46.104441\n",
      "dtype: float64\n",
      "Volatilidade anualizada JP Morgan: 4. close    37.805503\n",
      "dtype: float64\n",
      "Volatlidade anualizada Lilly: 4. close    27.744277\n",
      "dtype: float64\n"
     ]
    }
   ],
   "source": [
    "#volatilidade anualizada\n",
    "\n",
    "historic_volatility_ivz = np.std(daily_return_ivz)\n",
    "historic_volatility_jpm = np.std(daily_return_jpm)\n",
    "historic_volatility_lly = np.std(daily_return_lly)\n",
    "\n",
    "window_size = 20\n",
    "monthly_volatility_ivz = daily_return_ivz.rolling(window=window_size, min_periods=1).std()\n",
    "monthly_volatility_jpm = daily_return_jpm.rolling(window=window_size, min_periods=1).std()\n",
    "monthly_volatility_lly = daily_return_lly.rolling(window=window_size, min_periods=1).std()\n",
    "\n",
    "annualized_volatility_ivz = historic_volatility_ivz * math.sqrt(252)\n",
    "annualized_volatility_jpm = historic_volatility_jpm * math.sqrt(252)\n",
    "annualized_volatility_lly = historic_volatility_lly * math.sqrt(252)\n",
    "\n",
    "print('Volatilidade anualizada Invesco:', annualized_volatility_ivz*100)\n",
    "print('Volatilidade anualizada JP Morgan:', annualized_volatility_jpm*100)\n",
    "print('Volatlidade anualizada Lilly:', annualized_volatility_lly*100)"
   ]
  }
 ],
 "metadata": {
  "kernelspec": {
   "display_name": "Python 3",
   "language": "python",
   "name": "python3"
  },
  "language_info": {
   "codemirror_mode": {
    "name": "ipython",
    "version": 3
   },
   "file_extension": ".py",
   "mimetype": "text/x-python",
   "name": "python",
   "nbconvert_exporter": "python",
   "pygments_lexer": "ipython3",
   "version": "3.11.5"
  }
 },
 "nbformat": 4,
 "nbformat_minor": 5
}
